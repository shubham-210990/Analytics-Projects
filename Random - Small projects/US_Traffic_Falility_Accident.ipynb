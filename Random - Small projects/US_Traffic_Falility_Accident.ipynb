{
  "cells": [
    {
      "metadata": {
        "_uuid": "8f2839f25d086af736a60e9eeb907d3b93b6e0e5",
        "_cell_guid": "b1076dfc-b9ad-4769-8c92-a6c4dae69d19",
        "trusted": true
      },
      "cell_type": "code",
      "source": "import bq_helper",
      "execution_count": null,
      "outputs": []
    },
    {
      "metadata": {
        "_cell_guid": "79c7e3d0-c299-4dcb-8224-4455121ee9b0",
        "_uuid": "d629ff2d2480ee46fbb7e2d37f6b5fab8052498a",
        "trusted": true
      },
      "cell_type": "code",
      "source": "accident = bq_helper.BigQueryHelper(active_project='bigquery-public-data',dataset_name='nhtsa_traffic_fatalities')\naccident.list_tables()",
      "execution_count": null,
      "outputs": []
    },
    {
      "metadata": {
        "trusted": true,
        "_uuid": "f518875b37924fdddf5bf12db7d04f89a1f23879"
      },
      "cell_type": "code",
      "source": "query = \"\"\"\nSELECT COUNT(consecutive_number),EXTRACT(DAYOFWEEK FROM timestamp_of_crash)\nFROM `bigquery-public-data.nhtsa_traffic_fatalities.accident_2015` \nGROUP BY EXTRACT(DAYOFWEEK FROM timestamp_of_crash)\nORDER BY COUNT(consecutive_number) desc\n\"\"\"\n\naccident_by_day = accident.query_to_pandas_safe(query)",
      "execution_count": null,
      "outputs": []
    },
    {
      "metadata": {
        "trusted": true,
        "_uuid": "5d6e2203248d10485e72aafbaa7708dfbba935e2"
      },
      "cell_type": "code",
      "source": "import matplotlib.pyplot as plt\n\nplt.plot(accident_by_day.f0_)\nplt.title(\"Number of Accidents by Rank of Day \\n (Most to least dangerous)\")",
      "execution_count": null,
      "outputs": []
    },
    {
      "metadata": {
        "trusted": true,
        "_uuid": "c8c338a58c9e9d5d8ca015b9ada0d9b84176d50e"
      },
      "cell_type": "code",
      "source": "print(accident_by_day)",
      "execution_count": null,
      "outputs": []
    },
    {
      "metadata": {
        "trusted": true,
        "_uuid": "a2d24783781fce3053e29e1887fd905dde5e9917"
      },
      "cell_type": "code",
      "source": "accident.head('accident_2015')",
      "execution_count": null,
      "outputs": []
    },
    {
      "metadata": {
        "trusted": true,
        "_uuid": "c66ccfc47d9a558d82d995a502e9daf3a06f8f46"
      },
      "cell_type": "code",
      "source": "query = \"\"\"\nSELECT COUNT(consecutive_number),EXTRACT(HOUR from timestamp_of_crash)\nFROM `bigquery-public-data.nhtsa_traffic_fatalities.accident_2015`\nGROUP BY EXTRACT(HOUR from timestamp_of_crash)\nORDER BY COUNT(consecutive_number) desc\n\"\"\"\n\naccident_at_hours = accident.query_to_pandas_safe(query)\nprint(accident_at_hours)",
      "execution_count": null,
      "outputs": []
    },
    {
      "metadata": {
        "trusted": true,
        "_uuid": "79b43f2f822f317b0ae0a5e02cd283d2f1c3ec69"
      },
      "cell_type": "code",
      "source": "import matplotlib.pyplot as plt\nplt.plot(accident_at_hours.f0_)\nplt.title('Number of Accident per hour')",
      "execution_count": null,
      "outputs": []
    },
    {
      "metadata": {
        "trusted": true,
        "scrolled": true,
        "_uuid": "6bcfbab85ac047508f9f23a17af2ade7393b92f6"
      },
      "cell_type": "code",
      "source": "accident.head('vehicle_2015',1)",
      "execution_count": 38,
      "outputs": [
        {
          "output_type": "execute_result",
          "execution_count": 38,
          "data": {
            "text/plain": "   state_number            ...                   timestamp_of_crash\n0             4            ...            2015-10-26 14:15:00+00:00\n\n[1 rows x 115 columns]",
            "text/html": "<div>\n<style scoped>\n    .dataframe tbody tr th:only-of-type {\n        vertical-align: middle;\n    }\n\n    .dataframe tbody tr th {\n        vertical-align: top;\n    }\n\n    .dataframe thead th {\n        text-align: right;\n    }\n</style>\n<table border=\"1\" class=\"dataframe\">\n  <thead>\n    <tr style=\"text-align: right;\">\n      <th></th>\n      <th>state_number</th>\n      <th>consecutive_number</th>\n      <th>vehicle_number</th>\n      <th>number_of_motor_vehicles_in_transport_mvit</th>\n      <th>number_of_occupants</th>\n      <th>day_of_crash</th>\n      <th>month_of_crash</th>\n      <th>hour_of_crash</th>\n      <th>minute_of_crash</th>\n      <th>first_harmful_event</th>\n      <th>first_harmful_event_name</th>\n      <th>manner_of_collision</th>\n      <th>unit_type</th>\n      <th>hit_and_run</th>\n      <th>registration_state</th>\n      <th>registration_state_name</th>\n      <th>registered_vehicle_owner</th>\n      <th>registered_vehicle_owner_name</th>\n      <th>vehicle_make</th>\n      <th>vehicle_make_name</th>\n      <th>vehicle_model</th>\n      <th>make_model_combined</th>\n      <th>body_type</th>\n      <th>body_type_name</th>\n      <th>vehicle_model_year</th>\n      <th>vehicle_identification_number_vin</th>\n      <th>vin_character_1</th>\n      <th>vin_character_2</th>\n      <th>vin_character_3</th>\n      <th>vin_character_4</th>\n      <th>vin_character_5</th>\n      <th>vin_character_6</th>\n      <th>vin_character_7</th>\n      <th>vin_character_8</th>\n      <th>vin_character_9</th>\n      <th>vin_character_10</th>\n      <th>vin_character_11</th>\n      <th>vin_character_12</th>\n      <th>vehicle_trailing</th>\n      <th>jackknife</th>\n      <th>...</th>\n      <th>license_compliance_with_class_of_vehicle</th>\n      <th>compliance_with_license_restrictions</th>\n      <th>driver_height</th>\n      <th>driver_weight</th>\n      <th>previous_recorded_crashes</th>\n      <th>previous_recorded_suspensions_and_revocations</th>\n      <th>previous_dwi_convictions</th>\n      <th>previous_speeding_convictions</th>\n      <th>previous_other_moving_violation_convictions</th>\n      <th>month_of_first_crash_suspension_or_conviction</th>\n      <th>year_of_first_crash_suspension_or_conviction</th>\n      <th>month_of_last_crash_suspension_or_conviction</th>\n      <th>year_of_last_crash_suspension_or_conviction</th>\n      <th>speeding_related</th>\n      <th>related_factors_driver_level_1</th>\n      <th>related_factors_driver_level_2</th>\n      <th>related_factors_driver_level_3</th>\n      <th>related_factors_driver_level_4</th>\n      <th>trafficway_description</th>\n      <th>total_lanes_in_roadway</th>\n      <th>speed_limit</th>\n      <th>roadway_alignment</th>\n      <th>roadway_grade</th>\n      <th>roadway_surface_type</th>\n      <th>roadway_surface_condition</th>\n      <th>roadway_surface_condition_name</th>\n      <th>traffic_control_device</th>\n      <th>traffic_control_device_functioning</th>\n      <th>pre_event_movement_prior_to_recognition_of_critical_event</th>\n      <th>critical_event_precrash</th>\n      <th>critical_event_precrash_name</th>\n      <th>attempted_avoidance_maneuver</th>\n      <th>attempted_avoidance_maneuver_name</th>\n      <th>pre_impact_stability</th>\n      <th>pre_impact_location</th>\n      <th>crash_type</th>\n      <th>crash_type_name</th>\n      <th>fatalities_in_vehicle</th>\n      <th>driver_drinking</th>\n      <th>timestamp_of_crash</th>\n    </tr>\n  </thead>\n  <tbody>\n    <tr>\n      <th>0</th>\n      <td>4</td>\n      <td>40725</td>\n      <td>1</td>\n      <td>1</td>\n      <td>2</td>\n      <td>26</td>\n      <td>10</td>\n      <td>14</td>\n      <td>15</td>\n      <td>5</td>\n      <td>Fell/Jumped from Vehicle</td>\n      <td>0</td>\n      <td>Motor Vehicle in Transport (Inside or Outside ...</td>\n      <td>No</td>\n      <td>92</td>\n      <td>No Registration</td>\n      <td>0</td>\n      <td>Not Applicable, Vehicle Not Registered</td>\n      <td>98</td>\n      <td>Other Make\\nAuto-Union-DKW\\nCarpenter\\nCollins...</td>\n      <td>998</td>\n      <td>98998</td>\n      <td>95</td>\n      <td>Golf Cart (Since 2012)</td>\n      <td>1988</td>\n      <td>489055</td>\n      <td>4</td>\n      <td>8</td>\n      <td>9</td>\n      <td>0</td>\n      <td>5</td>\n      <td>5</td>\n      <td></td>\n      <td></td>\n      <td></td>\n      <td></td>\n      <td></td>\n      <td></td>\n      <td>No Trailing Unit</td>\n      <td>Not an Articulated Vehicle</td>\n      <td>...</td>\n      <td>Not Licensed</td>\n      <td>0</td>\n      <td>999</td>\n      <td>999</td>\n      <td>0</td>\n      <td>0</td>\n      <td>0</td>\n      <td>0</td>\n      <td>0</td>\n      <td>0</td>\n      <td>0</td>\n      <td>0</td>\n      <td>0</td>\n      <td>No</td>\n      <td>91</td>\n      <td>0</td>\n      <td>0</td>\n      <td>0</td>\n      <td>Two-Way, Not Divided</td>\n      <td>2</td>\n      <td>98</td>\n      <td>Straight</td>\n      <td>Level</td>\n      <td>Blacktop, Bituminous, or Asphalt</td>\n      <td>1</td>\n      <td>Dry</td>\n      <td>0</td>\n      <td>No Controls</td>\n      <td>11</td>\n      <td>15</td>\n      <td>Turning Left at Junction</td>\n      <td>1</td>\n      <td>No Avoidance Maneuver</td>\n      <td>Tracking</td>\n      <td>1</td>\n      <td>0</td>\n      <td>No Impact</td>\n      <td>1</td>\n      <td>Drinking</td>\n      <td>2015-10-26 14:15:00+00:00</td>\n    </tr>\n  </tbody>\n</table>\n</div>"
          },
          "metadata": {}
        }
      ]
    },
    {
      "metadata": {
        "trusted": true,
        "_uuid": "bd4ccbb3e98dbc5e89d331bb2318adbe9d001de9"
      },
      "cell_type": "code",
      "source": "query = \"\"\"\nSELECT COUNT(hit_and_run),registration_state_name FROM \n`bigquery-public-data.nhtsa_traffic_fatalities.vehicle_2015` where hit_and_run='Yes' \nGROUP BY registration_state_name\nORDER BY COUNT(hit_and_run) \n\"\"\"\n\naccident.query_to_pandas_safe(query)",
      "execution_count": 42,
      "outputs": [
        {
          "output_type": "execute_result",
          "execution_count": 42,
          "data": {
            "text/plain": "    f0_                            registration_state_name\n0     1                               District of Columbia\n1     1                              Other Foreign Country\n2     1                                            Vermont\n3     1                                     Not Applicable\n4     1                                      New Hampshire\n5     1                                             Hawaii\n6     2                                            Montana\n7     2                                             Alaska\n8     3                                           Missouri\n9     3                                      West Virginia\n10    3  Other Registration (Includes Native American I...\n11    3                                              Idaho\n12    4                       Multiple State Registrations\n13    5                                           Delaware\n14    5                                              Maine\n15    5                                               Utah\n16    6                                           Nebraska\n17    6                                          Minnesota\n18    7                                             Oregon\n19    8                                           Arkansas\n20    8                                             Kansas\n21   10                                         Washington\n22   10                                        Mississippi\n23   10                                        Connecticut\n24   12                                         New Mexico\n25   13                                           Kentucky\n26   14                                           Oklahoma\n27   15                                    No Registration\n28   15                                           Virginia\n29   15                                             Nevada\n30   16                                     South Carolina\n31   16                                      Massachusetts\n32   17                                               Iowa\n33   18                                               Ohio\n34   19                                            Alabama\n35   19                                           Maryland\n36   19                                           Colorado\n37   20                                            Indiana\n38   21                                          Tennessee\n39   22                                          Louisiana\n40   24                                         New Jersey\n41   24                                           Illinois\n42   26                                       Pennsylvania\n43   26                                            Georgia\n44   29                                          Wisconsin\n45   30                                     North Carolina\n46   31                                            Arizona\n47   33                                           Michigan\n48   38                                           New York\n49   86                                              Texas\n50   96                                            Florida\n51  155                                         California\n52  834                                            Unknown",
            "text/html": "<div>\n<style scoped>\n    .dataframe tbody tr th:only-of-type {\n        vertical-align: middle;\n    }\n\n    .dataframe tbody tr th {\n        vertical-align: top;\n    }\n\n    .dataframe thead th {\n        text-align: right;\n    }\n</style>\n<table border=\"1\" class=\"dataframe\">\n  <thead>\n    <tr style=\"text-align: right;\">\n      <th></th>\n      <th>f0_</th>\n      <th>registration_state_name</th>\n    </tr>\n  </thead>\n  <tbody>\n    <tr>\n      <th>0</th>\n      <td>1</td>\n      <td>District of Columbia</td>\n    </tr>\n    <tr>\n      <th>1</th>\n      <td>1</td>\n      <td>Other Foreign Country</td>\n    </tr>\n    <tr>\n      <th>2</th>\n      <td>1</td>\n      <td>Vermont</td>\n    </tr>\n    <tr>\n      <th>3</th>\n      <td>1</td>\n      <td>Not Applicable</td>\n    </tr>\n    <tr>\n      <th>4</th>\n      <td>1</td>\n      <td>New Hampshire</td>\n    </tr>\n    <tr>\n      <th>5</th>\n      <td>1</td>\n      <td>Hawaii</td>\n    </tr>\n    <tr>\n      <th>6</th>\n      <td>2</td>\n      <td>Montana</td>\n    </tr>\n    <tr>\n      <th>7</th>\n      <td>2</td>\n      <td>Alaska</td>\n    </tr>\n    <tr>\n      <th>8</th>\n      <td>3</td>\n      <td>Missouri</td>\n    </tr>\n    <tr>\n      <th>9</th>\n      <td>3</td>\n      <td>West Virginia</td>\n    </tr>\n    <tr>\n      <th>10</th>\n      <td>3</td>\n      <td>Other Registration (Includes Native American I...</td>\n    </tr>\n    <tr>\n      <th>11</th>\n      <td>3</td>\n      <td>Idaho</td>\n    </tr>\n    <tr>\n      <th>12</th>\n      <td>4</td>\n      <td>Multiple State Registrations</td>\n    </tr>\n    <tr>\n      <th>13</th>\n      <td>5</td>\n      <td>Delaware</td>\n    </tr>\n    <tr>\n      <th>14</th>\n      <td>5</td>\n      <td>Maine</td>\n    </tr>\n    <tr>\n      <th>15</th>\n      <td>5</td>\n      <td>Utah</td>\n    </tr>\n    <tr>\n      <th>16</th>\n      <td>6</td>\n      <td>Nebraska</td>\n    </tr>\n    <tr>\n      <th>17</th>\n      <td>6</td>\n      <td>Minnesota</td>\n    </tr>\n    <tr>\n      <th>18</th>\n      <td>7</td>\n      <td>Oregon</td>\n    </tr>\n    <tr>\n      <th>19</th>\n      <td>8</td>\n      <td>Arkansas</td>\n    </tr>\n    <tr>\n      <th>20</th>\n      <td>8</td>\n      <td>Kansas</td>\n    </tr>\n    <tr>\n      <th>21</th>\n      <td>10</td>\n      <td>Washington</td>\n    </tr>\n    <tr>\n      <th>22</th>\n      <td>10</td>\n      <td>Mississippi</td>\n    </tr>\n    <tr>\n      <th>23</th>\n      <td>10</td>\n      <td>Connecticut</td>\n    </tr>\n    <tr>\n      <th>24</th>\n      <td>12</td>\n      <td>New Mexico</td>\n    </tr>\n    <tr>\n      <th>25</th>\n      <td>13</td>\n      <td>Kentucky</td>\n    </tr>\n    <tr>\n      <th>26</th>\n      <td>14</td>\n      <td>Oklahoma</td>\n    </tr>\n    <tr>\n      <th>27</th>\n      <td>15</td>\n      <td>No Registration</td>\n    </tr>\n    <tr>\n      <th>28</th>\n      <td>15</td>\n      <td>Virginia</td>\n    </tr>\n    <tr>\n      <th>29</th>\n      <td>15</td>\n      <td>Nevada</td>\n    </tr>\n    <tr>\n      <th>30</th>\n      <td>16</td>\n      <td>South Carolina</td>\n    </tr>\n    <tr>\n      <th>31</th>\n      <td>16</td>\n      <td>Massachusetts</td>\n    </tr>\n    <tr>\n      <th>32</th>\n      <td>17</td>\n      <td>Iowa</td>\n    </tr>\n    <tr>\n      <th>33</th>\n      <td>18</td>\n      <td>Ohio</td>\n    </tr>\n    <tr>\n      <th>34</th>\n      <td>19</td>\n      <td>Alabama</td>\n    </tr>\n    <tr>\n      <th>35</th>\n      <td>19</td>\n      <td>Maryland</td>\n    </tr>\n    <tr>\n      <th>36</th>\n      <td>19</td>\n      <td>Colorado</td>\n    </tr>\n    <tr>\n      <th>37</th>\n      <td>20</td>\n      <td>Indiana</td>\n    </tr>\n    <tr>\n      <th>38</th>\n      <td>21</td>\n      <td>Tennessee</td>\n    </tr>\n    <tr>\n      <th>39</th>\n      <td>22</td>\n      <td>Louisiana</td>\n    </tr>\n    <tr>\n      <th>40</th>\n      <td>24</td>\n      <td>New Jersey</td>\n    </tr>\n    <tr>\n      <th>41</th>\n      <td>24</td>\n      <td>Illinois</td>\n    </tr>\n    <tr>\n      <th>42</th>\n      <td>26</td>\n      <td>Pennsylvania</td>\n    </tr>\n    <tr>\n      <th>43</th>\n      <td>26</td>\n      <td>Georgia</td>\n    </tr>\n    <tr>\n      <th>44</th>\n      <td>29</td>\n      <td>Wisconsin</td>\n    </tr>\n    <tr>\n      <th>45</th>\n      <td>30</td>\n      <td>North Carolina</td>\n    </tr>\n    <tr>\n      <th>46</th>\n      <td>31</td>\n      <td>Arizona</td>\n    </tr>\n    <tr>\n      <th>47</th>\n      <td>33</td>\n      <td>Michigan</td>\n    </tr>\n    <tr>\n      <th>48</th>\n      <td>38</td>\n      <td>New York</td>\n    </tr>\n    <tr>\n      <th>49</th>\n      <td>86</td>\n      <td>Texas</td>\n    </tr>\n    <tr>\n      <th>50</th>\n      <td>96</td>\n      <td>Florida</td>\n    </tr>\n    <tr>\n      <th>51</th>\n      <td>155</td>\n      <td>California</td>\n    </tr>\n    <tr>\n      <th>52</th>\n      <td>834</td>\n      <td>Unknown</td>\n    </tr>\n  </tbody>\n</table>\n</div>"
          },
          "metadata": {}
        }
      ]
    },
    {
      "metadata": {
        "trusted": true,
        "_uuid": "9cd9490a0f0b9e8d1f74bcddb506873aa391256e"
      },
      "cell_type": "code",
      "source": "",
      "execution_count": null,
      "outputs": []
    },
    {
      "metadata": {
        "trusted": true,
        "_uuid": "1cfa19dec52ee92142e7214200437802c0346633"
      },
      "cell_type": "code",
      "source": "",
      "execution_count": null,
      "outputs": []
    }
  ],
  "metadata": {
    "kernelspec": {
      "display_name": "Python 3",
      "language": "python",
      "name": "python3"
    },
    "language_info": {
      "name": "python",
      "version": "3.6.6",
      "mimetype": "text/x-python",
      "codemirror_mode": {
        "name": "ipython",
        "version": 3
      },
      "pygments_lexer": "ipython3",
      "nbconvert_exporter": "python",
      "file_extension": ".py"
    }
  },
  "nbformat": 4,
  "nbformat_minor": 1
}