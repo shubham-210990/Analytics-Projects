{
  "cells": [
    {
      "metadata": {
        "_uuid": "8f2839f25d086af736a60e9eeb907d3b93b6e0e5",
        "_cell_guid": "b1076dfc-b9ad-4769-8c92-a6c4dae69d19",
        "trusted": true
      },
      "cell_type": "code",
      "source": "import bq_helper",
      "execution_count": null,
      "outputs": []
    },
    {
      "metadata": {
        "trusted": true,
        "_uuid": "ff7a91305c67e0edb0fd40017b7989bf3f317da8"
      },
      "cell_type": "code",
      "source": "bitcoin_blockchain = bq_helper.BigQueryHelper(active_project = \"bigquery-public-data\",\n                                              dataset_name = \"bitcoin-blockchain\")",
      "execution_count": null,
      "outputs": []
    },
    {
      "metadata": {
        "trusted": true,
        "_uuid": "73ac2d4cc0a7f992b8174e7c8514d530ccfce4e8"
      },
      "cell_type": "code",
      "source": "query = \"\"\"\nWITH time AS \n(\n  SELECT TIMESTAMP_MILLIS(timestamp) AS trans_time,\n  transaction_id\n  FROM `bigquery-public-data.bitcoin_blockchain.transactions`\n)\n\nSELECT COUNT(transaction_id) AS transactions.\nEXTRACT(MONTH FROM trans_time) AS month,\nEXTRACT(YEAR FROM trans_time) AS year\nFROM time\nGROUP BY year,month\nORDER BY year,month\n\"\"\"\n\ntransactions_per_month = bitcoin_blockchain.query_to_pandas_safe(query, max_gb_scanned=21)",
      "execution_count": null,
      "outputs": []
    },
    {
      "metadata": {
        "trusted": true,
        "_uuid": "5358137e6f791391b4953a78f3d0698758a68369"
      },
      "cell_type": "code",
      "source": "import matplotlib.pyplot as plt\n\n# plot monthly bitcoin transactions\nplt.plot(transactions_per_month.transactions)\nplt.title(\"Monthly Bitcoin Transcations\")",
      "execution_count": null,
      "outputs": []
    },
    {
      "metadata": {
        "_cell_guid": "79c7e3d0-c299-4dcb-8224-4455121ee9b0",
        "collapsed": true,
        "_uuid": "d629ff2d2480ee46fbb7e2d37f6b5fab8052498a",
        "trusted": false
      },
      "cell_type": "code",
      "source": "",
      "execution_count": null,
      "outputs": []
    }
  ],
  "metadata": {
    "kernelspec": {
      "display_name": "Python 3",
      "language": "python",
      "name": "python3"
    },
    "language_info": {
      "name": "python",
      "version": "3.6.6",
      "mimetype": "text/x-python",
      "codemirror_mode": {
        "name": "ipython",
        "version": 3
      },
      "pygments_lexer": "ipython3",
      "nbconvert_exporter": "python",
      "file_extension": ".py"
    }
  },
  "nbformat": 4,
  "nbformat_minor": 1
}