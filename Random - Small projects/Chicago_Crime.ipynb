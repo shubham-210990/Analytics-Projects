{
  "cells": [
    {
      "metadata": {
        "_uuid": "8f2839f25d086af736a60e9eeb907d3b93b6e0e5",
        "_cell_guid": "b1076dfc-b9ad-4769-8c92-a6c4dae69d19",
        "trusted": true,
        "collapsed": true
      },
      "cell_type": "code",
      "source": "import bq_helper\n# create a helper object for our bigquery dataset\nchicago_crime = bq_helper.BigQueryHelper(active_project= \"bigquery-public-data\", \n                                       dataset_name = \"chicago_crime\")",
      "execution_count": null,
      "outputs": []
    },
    {
      "metadata": {
        "_cell_guid": "79c7e3d0-c299-4dcb-8224-4455121ee9b0",
        "_uuid": "d629ff2d2480ee46fbb7e2d37f6b5fab8052498a",
        "trusted": true,
        "collapsed": true
      },
      "cell_type": "code",
      "source": "chicago_crime.list_tables()",
      "execution_count": null,
      "outputs": []
    },
    {
      "metadata": {
        "_kg_hide-input": true,
        "trusted": true,
        "_uuid": "ebcf879bb8db05f2d0c0e98c77c879315ad2d015",
        "collapsed": true
      },
      "cell_type": "code",
      "source": "chicago_crime.table_schema('crime')",
      "execution_count": null,
      "outputs": []
    },
    {
      "metadata": {
        "trusted": true,
        "_uuid": "3ef75e4321a60b26bb1dd1397a81fdaeba516b2d",
        "collapsed": true
      },
      "cell_type": "code",
      "source": "chicago_crime.head('crime')",
      "execution_count": null,
      "outputs": []
    },
    {
      "metadata": {
        "trusted": true,
        "_uuid": "609336acdf38b4feda4fd5a8104f9f1d0e9476d6",
        "collapsed": true
      },
      "cell_type": "code",
      "source": "chicago_crime.head('crime',selected_columns='primary_type',num_rows=10)",
      "execution_count": null,
      "outputs": []
    },
    {
      "metadata": {
        "trusted": true,
        "_uuid": "67cef63269e81d7b1137d9f3176678fc86bd5923",
        "collapsed": true
      },
      "cell_type": "code",
      "source": "query = '''select case_number from `bigquery-public-data.chicago_crime.crime`\nwhere primary_type='THEFT' '''\nchicago_crime.query_to_pandas_safe(query,max_gb_scanned=1)",
      "execution_count": null,
      "outputs": []
    },
    {
      "metadata": {
        "trusted": true,
        "scrolled": false,
        "_uuid": "c0e2effc6a84ba3667235e9ee29ca07368d9db56",
        "collapsed": true
      },
      "cell_type": "code",
      "source": "chicago_crime.head('crime')",
      "execution_count": null,
      "outputs": []
    },
    {
      "metadata": {
        "trusted": true,
        "collapsed": true,
        "_uuid": "a97e9a751de066e462449ec6190d61545ce52ae5"
      },
      "cell_type": "code",
      "source": "query = \"\"\"\nselect description from `bigquery-public-data.chicago_crime.crime` \nwhere primary_type='ARSON'\n\"\"\"\n\narson = chicago_crime.query_to_pandas_safe(query)",
      "execution_count": null,
      "outputs": []
    },
    {
      "metadata": {
        "trusted": true,
        "_uuid": "c387519d3f3b30a55c40a7541a4fc2827af84373",
        "collapsed": true
      },
      "cell_type": "code",
      "source": "arson.description.value_counts().head()",
      "execution_count": null,
      "outputs": []
    },
    {
      "metadata": {
        "trusted": true,
        "_uuid": "938ab5d393564ee5429c8e21a20e57385013c625",
        "collapsed": true
      },
      "cell_type": "code",
      "source": "query = \"\"\"\nselect primary_type,count(unique_key) from `bigquery-public-data.chicago_crime.crime`\ngroup by primary_type\n\"\"\"\n\nchicago_crime.query_to_pandas_safe(query)",
      "execution_count": null,
      "outputs": []
    },
    {
      "metadata": {
        "trusted": true,
        "_uuid": "24ea48914cf7b9447dbcaf6ad5f798db9d87ec72",
        "collapsed": true
      },
      "cell_type": "code",
      "source": "query = \"\"\"\nselect primary_type,count(unique_key) from `bigquery-public-data.chicago_crime.crime`\ngroup by primary_type having count(unique_key)>10000\n\"\"\"\n\nchicago_crime.query_to_pandas_safe(query)",
      "execution_count": null,
      "outputs": []
    },
    {
      "metadata": {
        "trusted": true,
        "collapsed": true,
        "_uuid": "2c94a539ede6de27df14068ced020ad35204edad"
      },
      "cell_type": "code",
      "source": "",
      "execution_count": null,
      "outputs": []
    }
  ],
  "metadata": {
    "kernelspec": {
      "display_name": "Python 3",
      "language": "python",
      "name": "python3"
    },
    "language_info": {
      "name": "python",
      "version": "3.6.5",
      "mimetype": "text/x-python",
      "codemirror_mode": {
        "name": "ipython",
        "version": 3
      },
      "pygments_lexer": "ipython3",
      "nbconvert_exporter": "python",
      "file_extension": ".py"
    }
  },
  "nbformat": 4,
  "nbformat_minor": 1
}