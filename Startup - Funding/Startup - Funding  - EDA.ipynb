{
 "cells": [
  {
   "cell_type": "code",
   "execution_count": 50,
   "metadata": {},
   "outputs": [],
   "source": [
    "import numpy as np\n",
    "import pandas as pd\n",
    "pd.options.display.max_columns = 100\n",
    "import matplotlib.pyplot as plt\n",
    "import os\n",
    "import collections\n",
    "import warnings\n",
    "warnings.filterwarnings('ignore')\n",
    "import plotly.graph_objs as go\n",
    "import plotly.tools as tls\n",
    "import plotly.offline as py"
   ]
  },
  {
   "cell_type": "code",
   "execution_count": 51,
   "metadata": {},
   "outputs": [
    {
     "data": {
      "text/html": [
       "<script>requirejs.config({paths: { 'plotly': ['https://cdn.plot.ly/plotly-latest.min']},});if(!window.Plotly) {{require(['plotly'],function(plotly) {window.Plotly=plotly;});}}</script>"
      ],
      "text/vnd.plotly.v1+html": [
       "<script>requirejs.config({paths: { 'plotly': ['https://cdn.plot.ly/plotly-latest.min']},});if(!window.Plotly) {{require(['plotly'],function(plotly) {window.Plotly=plotly;});}}</script>"
      ]
     },
     "metadata": {},
     "output_type": "display_data"
    }
   ],
   "source": [
    "py.init_notebook_mode(connected=True)\n",
    "os.chdir(os.getcwd())"
   ]
  },
  {
   "cell_type": "code",
   "execution_count": 52,
   "metadata": {},
   "outputs": [
    {
     "data": {
      "text/html": [
       "<div>\n",
       "<style scoped>\n",
       "    .dataframe tbody tr th:only-of-type {\n",
       "        vertical-align: middle;\n",
       "    }\n",
       "\n",
       "    .dataframe tbody tr th {\n",
       "        vertical-align: top;\n",
       "    }\n",
       "\n",
       "    .dataframe thead th {\n",
       "        text-align: right;\n",
       "    }\n",
       "</style>\n",
       "<table border=\"1\" class=\"dataframe\">\n",
       "  <thead>\n",
       "    <tr style=\"text-align: right;\">\n",
       "      <th></th>\n",
       "      <th>SNo</th>\n",
       "      <th>Date</th>\n",
       "      <th>StartupName</th>\n",
       "      <th>IndustryVertical</th>\n",
       "      <th>SubVertical</th>\n",
       "      <th>CityLocation</th>\n",
       "      <th>InvestorsName</th>\n",
       "      <th>InvestmentType</th>\n",
       "      <th>AmountInUSD</th>\n",
       "      <th>Remarks</th>\n",
       "    </tr>\n",
       "  </thead>\n",
       "  <tbody>\n",
       "    <tr>\n",
       "      <th>0</th>\n",
       "      <td>0</td>\n",
       "      <td>01/08/2017</td>\n",
       "      <td>TouchKin</td>\n",
       "      <td>Technology</td>\n",
       "      <td>Predictive Care Platform</td>\n",
       "      <td>Bangalore</td>\n",
       "      <td>Kae Capital</td>\n",
       "      <td>Private Equity</td>\n",
       "      <td>1,300,000</td>\n",
       "      <td>NaN</td>\n",
       "    </tr>\n",
       "    <tr>\n",
       "      <th>1</th>\n",
       "      <td>1</td>\n",
       "      <td>02/08/2017</td>\n",
       "      <td>Ethinos</td>\n",
       "      <td>Technology</td>\n",
       "      <td>Digital Marketing Agency</td>\n",
       "      <td>Mumbai</td>\n",
       "      <td>Triton Investment Advisors</td>\n",
       "      <td>Private Equity</td>\n",
       "      <td>NaN</td>\n",
       "      <td>NaN</td>\n",
       "    </tr>\n",
       "    <tr>\n",
       "      <th>2</th>\n",
       "      <td>2</td>\n",
       "      <td>02/08/2017</td>\n",
       "      <td>Leverage Edu</td>\n",
       "      <td>Consumer Internet</td>\n",
       "      <td>Online platform for Higher Education Services</td>\n",
       "      <td>New Delhi</td>\n",
       "      <td>Kashyap Deorah, Anand Sankeshwar, Deepak Jain,...</td>\n",
       "      <td>Seed Funding</td>\n",
       "      <td>NaN</td>\n",
       "      <td>NaN</td>\n",
       "    </tr>\n",
       "    <tr>\n",
       "      <th>3</th>\n",
       "      <td>3</td>\n",
       "      <td>02/08/2017</td>\n",
       "      <td>Zepo</td>\n",
       "      <td>Consumer Internet</td>\n",
       "      <td>DIY Ecommerce platform</td>\n",
       "      <td>Mumbai</td>\n",
       "      <td>Kunal Shah, LetsVenture, Anupam Mittal, Hetal ...</td>\n",
       "      <td>Seed Funding</td>\n",
       "      <td>500,000</td>\n",
       "      <td>NaN</td>\n",
       "    </tr>\n",
       "    <tr>\n",
       "      <th>4</th>\n",
       "      <td>4</td>\n",
       "      <td>02/08/2017</td>\n",
       "      <td>Click2Clinic</td>\n",
       "      <td>Consumer Internet</td>\n",
       "      <td>healthcare service aggregator</td>\n",
       "      <td>Hyderabad</td>\n",
       "      <td>Narottam Thudi, Shireesh Palle</td>\n",
       "      <td>Seed Funding</td>\n",
       "      <td>850,000</td>\n",
       "      <td>NaN</td>\n",
       "    </tr>\n",
       "  </tbody>\n",
       "</table>\n",
       "</div>"
      ],
      "text/plain": [
       "   SNo        Date   StartupName   IndustryVertical  \\\n",
       "0    0  01/08/2017      TouchKin         Technology   \n",
       "1    1  02/08/2017       Ethinos         Technology   \n",
       "2    2  02/08/2017  Leverage Edu  Consumer Internet   \n",
       "3    3  02/08/2017          Zepo  Consumer Internet   \n",
       "4    4  02/08/2017  Click2Clinic  Consumer Internet   \n",
       "\n",
       "                                     SubVertical CityLocation  \\\n",
       "0                       Predictive Care Platform    Bangalore   \n",
       "1                       Digital Marketing Agency       Mumbai   \n",
       "2  Online platform for Higher Education Services    New Delhi   \n",
       "3                         DIY Ecommerce platform       Mumbai   \n",
       "4                  healthcare service aggregator    Hyderabad   \n",
       "\n",
       "                                       InvestorsName  InvestmentType  \\\n",
       "0                                        Kae Capital  Private Equity   \n",
       "1                         Triton Investment Advisors  Private Equity   \n",
       "2  Kashyap Deorah, Anand Sankeshwar, Deepak Jain,...    Seed Funding   \n",
       "3  Kunal Shah, LetsVenture, Anupam Mittal, Hetal ...    Seed Funding   \n",
       "4                     Narottam Thudi, Shireesh Palle    Seed Funding   \n",
       "\n",
       "  AmountInUSD Remarks  \n",
       "0   1,300,000     NaN  \n",
       "1         NaN     NaN  \n",
       "2         NaN     NaN  \n",
       "3     500,000     NaN  \n",
       "4     850,000     NaN  "
      ]
     },
     "execution_count": 52,
     "metadata": {},
     "output_type": "execute_result"
    }
   ],
   "source": [
    "df = pd.read_csv('startup_funding.csv')\n",
    "df.head()"
   ]
  },
  {
   "cell_type": "code",
   "execution_count": 53,
   "metadata": {},
   "outputs": [
    {
     "data": {
      "text/plain": [
       "(2372, 10)"
      ]
     },
     "execution_count": 53,
     "metadata": {},
     "output_type": "execute_result"
    }
   ],
   "source": [
    "df.shape #Finding Shape of Dataframe"
   ]
  },
  {
   "cell_type": "code",
   "execution_count": 54,
   "metadata": {},
   "outputs": [
    {
     "data": {
      "text/plain": [
       "SNo                    0\n",
       "Date                   0\n",
       "StartupName            0\n",
       "IndustryVertical     171\n",
       "SubVertical          936\n",
       "CityLocation         179\n",
       "InvestorsName          8\n",
       "InvestmentType         1\n",
       "AmountInUSD          847\n",
       "Remarks             1953\n",
       "dtype: int64"
      ]
     },
     "execution_count": 54,
     "metadata": {},
     "output_type": "execute_result"
    }
   ],
   "source": [
    "df.isnull().sum() #Calculating number of Null values present in the dataframe."
   ]
  },
  {
   "cell_type": "code",
   "execution_count": 55,
   "metadata": {},
   "outputs": [],
   "source": [
    "#Dropping Remarks and SubVertical columns due to presence of large Null values\n",
    " \n",
    "del df['SubVertical']\n",
    "del df['Remarks']"
   ]
  },
  {
   "cell_type": "code",
   "execution_count": 56,
   "metadata": {},
   "outputs": [
    {
     "data": {
      "text/plain": [
       "SNo                   0\n",
       "Date                  0\n",
       "StartupName           0\n",
       "IndustryVertical    171\n",
       "CityLocation        179\n",
       "InvestorsName         8\n",
       "InvestmentType        1\n",
       "AmountInUSD         847\n",
       "dtype: int64"
      ]
     },
     "execution_count": 56,
     "metadata": {},
     "output_type": "execute_result"
    }
   ],
   "source": [
    "df.isnull().sum()"
   ]
  },
  {
   "cell_type": "code",
   "execution_count": 57,
   "metadata": {},
   "outputs": [],
   "source": [
    "#mapping Null values in columns with general or unknown values for better understanding\n",
    "df['CityLocation'] = df['CityLocation'].fillna('India')\n",
    "df['InvestorsName'] = df['InvestorsName'].fillna('Unknown')\n",
    "df['IndustryVertical'] = df['IndustryVertical'].fillna('Unknown/Others')"
   ]
  },
  {
   "cell_type": "code",
   "execution_count": 58,
   "metadata": {},
   "outputs": [],
   "source": [
    "#Finding Data Types of the columns \n",
    "#formatting columns = AmountInUSD and Date\n",
    "\n",
    "df['AmountInUSD'] = df['AmountInUSD'].apply(lambda x: str(x).replace(',','')).astype('float')\n",
    "df['AmountInUSD'] = df['AmountInUSD'].fillna(df['AmountInUSD'].mean())    \n",
    "df = df.dropna()"
   ]
  },
  {
   "cell_type": "code",
   "execution_count": 59,
   "metadata": {},
   "outputs": [],
   "source": [
    "#Date formatting\n",
    "def format_Investdate(d):\n",
    "    if '.' in d:\n",
    "        d = d.replace('.','/')\n",
    "    elif '//' in d:\n",
    "        d = d.replace('//','/')\n",
    "    return d \n",
    "\n",
    "df['Date'] = df['Date'].apply(format_Investdate)\n",
    "df['Date'] = pd.to_datetime(df['Date'],format='%d/%m/%Y')"
   ]
  },
  {
   "cell_type": "code",
   "execution_count": 60,
   "metadata": {},
   "outputs": [
    {
     "data": {
      "text/plain": [
       "array(['Private Equity', 'Seed Funding', 'Debt Funding', 'SeedFunding',\n",
       "       'PrivateEquity', 'Crowd funding', 'Crowd Funding'], dtype=object)"
      ]
     },
     "execution_count": 60,
     "metadata": {},
     "output_type": "execute_result"
    }
   ],
   "source": [
    "df['InvestmentType'].unique()"
   ]
  },
  {
   "cell_type": "code",
   "execution_count": 61,
   "metadata": {},
   "outputs": [],
   "source": [
    "df['InvestmentType'] = df['InvestmentType'].apply(lambda x : x.replace('PrivateEquity','Private Equity'))\n",
    "df['InvestmentType'] = df['InvestmentType'].apply(lambda x : x.replace('SeedFunding','Seed Funding'))\n",
    "df['InvestmentType'] = df['InvestmentType'].apply(lambda x : x.replace('Crowd funding','Crowd Funding'))"
   ]
  },
  {
   "cell_type": "code",
   "execution_count": 62,
   "metadata": {},
   "outputs": [
    {
     "data": {
      "text/plain": [
       "array(['Private Equity', 'Seed Funding', 'Debt Funding', 'Crowd Funding'],\n",
       "      dtype=object)"
      ]
     },
     "execution_count": 62,
     "metadata": {},
     "output_type": "execute_result"
    }
   ],
   "source": [
    "df['InvestmentType'].unique()"
   ]
  },
  {
   "cell_type": "code",
   "execution_count": 63,
   "metadata": {},
   "outputs": [],
   "source": [
    "df['IndustryVertical'] = df['IndustryVertical'].apply(lambda x : x.replace('ECommerce','eCommerce'))"
   ]
  },
  {
   "cell_type": "code",
   "execution_count": 64,
   "metadata": {},
   "outputs": [],
   "source": [
    "df['StartupName'] = df['StartupName'].apply(lambda x : x.replace('Ola Cabs','OlaCabs'))\n",
    "df['StartupName'] = df['StartupName'].apply(lambda x : x.replace('OlaCabs','Ola'))\n",
    "df['StartupName'] = df['StartupName'].apply(lambda x : x.replace('Olacabs','Ola'))\n",
    "df['StartupName'] = df['StartupName'].apply(lambda x : x.replace('Flipkart.com','Flipkart'))\n",
    "df['StartupName'] = df['StartupName'].apply(lambda x : x.replace('Paytm Marketplace','Paytm'))"
   ]
  },
  {
   "cell_type": "markdown",
   "metadata": {},
   "source": [
    "### Plotting Investment Type against Number of count"
   ]
  },
  {
   "cell_type": "code",
   "execution_count": 65,
   "metadata": {},
   "outputs": [
    {
     "data": {
      "application/vnd.plotly.v1+json": {
       "data": [
        {
         "marker": {
          "color": [
           1067,
           1301,
           1,
           2
          ],
          "colorscale": "Portland",
          "reversescale": false,
          "showscale": true
         },
         "opacity": 0.6,
         "type": "bar",
         "uid": "36bf9f76-d386-11e8-a53f-78843cf6d6b3",
         "width": 0.5,
         "x": [
          "Private Equity",
          "Seed Funding",
          "Debt Funding",
          "Crowd Funding"
         ],
         "y": [
          1067,
          1301,
          1,
          2
         ]
        }
       ],
       "layout": {
        "hovermode": "closest",
        "showlegend": false,
        "title": "Investment Type",
        "yaxis": {
         "gridwidth": 0.5,
         "ticklen": 1,
         "title": "Total"
        }
       }
      },
      "text/html": [
       "<div id=\"8c342bc6-358b-4940-a30d-9b0c49eff745\" style=\"height: 525px; width: 100%;\" class=\"plotly-graph-div\"></div><script type=\"text/javascript\">require([\"plotly\"], function(Plotly) { window.PLOTLYENV=window.PLOTLYENV || {};window.PLOTLYENV.BASE_URL=\"https://plot.ly\";Plotly.newPlot(\"8c342bc6-358b-4940-a30d-9b0c49eff745\", [{\"marker\": {\"color\": [1067, 1301, 1, 2], \"colorscale\": \"Portland\", \"reversescale\": false, \"showscale\": true}, \"opacity\": 0.6, \"width\": 0.5, \"x\": [\"Private Equity\", \"Seed Funding\", \"Debt Funding\", \"Crowd Funding\"], \"y\": [1067, 1301, 1, 2], \"type\": \"bar\", \"uid\": \"36bf9f76-d386-11e8-a53f-78843cf6d6b3\"}], {\"hovermode\": \"closest\", \"showlegend\": false, \"title\": \"Investment Type\", \"yaxis\": {\"gridwidth\": 0.5, \"ticklen\": 1, \"title\": \"Total\"}}, {\"showLink\": true, \"linkText\": \"Export to plot.ly\"})});</script>"
      ],
      "text/vnd.plotly.v1+html": [
       "<div id=\"8c342bc6-358b-4940-a30d-9b0c49eff745\" style=\"height: 525px; width: 100%;\" class=\"plotly-graph-div\"></div><script type=\"text/javascript\">require([\"plotly\"], function(Plotly) { window.PLOTLYENV=window.PLOTLYENV || {};window.PLOTLYENV.BASE_URL=\"https://plot.ly\";Plotly.newPlot(\"8c342bc6-358b-4940-a30d-9b0c49eff745\", [{\"marker\": {\"color\": [1067, 1301, 1, 2], \"colorscale\": \"Portland\", \"reversescale\": false, \"showscale\": true}, \"opacity\": 0.6, \"width\": 0.5, \"x\": [\"Private Equity\", \"Seed Funding\", \"Debt Funding\", \"Crowd Funding\"], \"y\": [1067, 1301, 1, 2], \"type\": \"bar\", \"uid\": \"36bf9f76-d386-11e8-a53f-78843cf6d6b3\"}], {\"hovermode\": \"closest\", \"showlegend\": false, \"title\": \"Investment Type\", \"yaxis\": {\"gridwidth\": 0.5, \"ticklen\": 1, \"title\": \"Total\"}}, {\"showLink\": true, \"linkText\": \"Export to plot.ly\"})});</script>"
      ]
     },
     "metadata": {},
     "output_type": "display_data"
    }
   ],
   "source": [
    "a = df.InvestmentType.values\n",
    "countercoscat = collections.Counter(a)\n",
    "\n",
    "keytype = list(countercoscat.keys())\n",
    "populationtype = list(countercoscat.values())\n",
    "\n",
    "\n",
    "dataa = [go.Bar(\n",
    "              y = populationtype,\n",
    "    x = keytype, width = 0.5, \n",
    "    marker = dict(color=populationtype,\n",
    "                 colorscale = 'Portland',\n",
    "                 showscale= True,\n",
    "                 reversescale = False),\n",
    "    opacity = 0.6\n",
    "        )]\n",
    "\n",
    "layout = go.Layout(\n",
    "                 title='Investment Type',\n",
    "                 hovermode ='closest',\n",
    "                 yaxis=dict(title='Total',ticklen=1,gridwidth=0.5),showlegend=False\n",
    "                 )\n",
    "\n",
    "fig=go.Figure(data=dataa,layout=layout)\n",
    "py.iplot(fig)"
   ]
  },
  {
   "cell_type": "markdown",
   "metadata": {},
   "source": [
    "### Plotting IndustrialVertical against Investment Count"
   ]
  },
  {
   "cell_type": "code",
   "execution_count": 66,
   "metadata": {
    "scrolled": true
   },
   "outputs": [
    {
     "data": {
      "application/vnd.plotly.v1+json": {
       "data": [
        {
         "marker": {
          "color": [
           772,
           313,
           224,
           171,
           30,
           24,
           20,
           18,
           9,
           6
          ],
          "colorscale": "Portland",
          "showscale": true
         },
         "type": "bar",
         "uid": "37d4bd06-d386-11e8-b946-78843cf6d6b3",
         "width": 0.5,
         "x": [
          "Consumer Internet",
          "Technology",
          "eCommerce",
          "Unknown/Others",
          "Healthcare",
          "Logistics",
          "Education",
          "Food & Beverage",
          "Finance",
          "Others"
         ],
         "y": [
          772,
          313,
          224,
          171,
          30,
          24,
          20,
          18,
          9,
          6
         ]
        }
       ],
       "layout": {
        "hovermode": "closest",
        "title": "Industry Vertical",
        "yaxis": {
         "title": "Number of Investment"
        }
       }
      },
      "text/html": [
       "<div id=\"e7bed3a0-7aba-45fe-9d86-945a52e74f36\" style=\"height: 525px; width: 100%;\" class=\"plotly-graph-div\"></div><script type=\"text/javascript\">require([\"plotly\"], function(Plotly) { window.PLOTLYENV=window.PLOTLYENV || {};window.PLOTLYENV.BASE_URL=\"https://plot.ly\";Plotly.newPlot(\"e7bed3a0-7aba-45fe-9d86-945a52e74f36\", [{\"marker\": {\"color\": [772, 313, 224, 171, 30, 24, 20, 18, 9, 6], \"colorscale\": \"Portland\", \"showscale\": true}, \"width\": 0.5, \"x\": [\"Consumer Internet\", \"Technology\", \"eCommerce\", \"Unknown/Others\", \"Healthcare\", \"Logistics\", \"Education\", \"Food & Beverage\", \"Finance\", \"Others\"], \"y\": [772, 313, 224, 171, 30, 24, 20, 18, 9, 6], \"type\": \"bar\", \"uid\": \"37d4bd06-d386-11e8-b946-78843cf6d6b3\"}], {\"hovermode\": \"closest\", \"title\": \"Industry Vertical\", \"yaxis\": {\"title\": \"Number of Investment\"}}, {\"showLink\": true, \"linkText\": \"Export to plot.ly\"})});</script>"
      ],
      "text/vnd.plotly.v1+html": [
       "<div id=\"e7bed3a0-7aba-45fe-9d86-945a52e74f36\" style=\"height: 525px; width: 100%;\" class=\"plotly-graph-div\"></div><script type=\"text/javascript\">require([\"plotly\"], function(Plotly) { window.PLOTLYENV=window.PLOTLYENV || {};window.PLOTLYENV.BASE_URL=\"https://plot.ly\";Plotly.newPlot(\"e7bed3a0-7aba-45fe-9d86-945a52e74f36\", [{\"marker\": {\"color\": [772, 313, 224, 171, 30, 24, 20, 18, 9, 6], \"colorscale\": \"Portland\", \"showscale\": true}, \"width\": 0.5, \"x\": [\"Consumer Internet\", \"Technology\", \"eCommerce\", \"Unknown/Others\", \"Healthcare\", \"Logistics\", \"Education\", \"Food & Beverage\", \"Finance\", \"Others\"], \"y\": [772, 313, 224, 171, 30, 24, 20, 18, 9, 6], \"type\": \"bar\", \"uid\": \"37d4bd06-d386-11e8-b946-78843cf6d6b3\"}], {\"hovermode\": \"closest\", \"title\": \"Industry Vertical\", \"yaxis\": {\"title\": \"Number of Investment\"}}, {\"showLink\": true, \"linkText\": \"Export to plot.ly\"})});</script>"
      ]
     },
     "metadata": {},
     "output_type": "display_data"
    }
   ],
   "source": [
    "dt_amo = df['IndustryVertical'].groupby([df.IndustryVertical]).agg('count').nlargest(10)\n",
    "\n",
    "keytype = list(dt_amo.keys())\n",
    "populationtype = list(dt_amo.values)\n",
    "\n",
    "dataa = [go.Bar(\n",
    "y = populationtype,\n",
    "x = keytype,\n",
    "width=0.5,\n",
    "marker = dict(color = populationtype,\n",
    "              colorscale = 'Portland',\n",
    "              showscale = True,\n",
    "             ))]\n",
    "\n",
    "layout = go.Layout(\n",
    "title = 'Industry Vertical',\n",
    "hovermode = 'closest',\n",
    "yaxis = dict(\n",
    "             title = 'Number of Investment'))\n",
    "\n",
    "fig=go.Figure(data=dataa,layout=layout)\n",
    "py.iplot(fig)\n"
   ]
  },
  {
   "cell_type": "markdown",
   "metadata": {},
   "source": [
    "### Plotting Top 10 cities got maximum number of funding."
   ]
  },
  {
   "cell_type": "code",
   "execution_count": 67,
   "metadata": {},
   "outputs": [
    {
     "data": {
      "application/vnd.plotly.v1+json": {
       "data": [
        {
         "marker": {
          "color": [
           627,
           445,
           381,
           240,
           179,
           84,
           78,
           76,
           66,
           35
          ],
          "colorscale": "Portland"
         },
         "type": "bar",
         "uid": "3979727e-d386-11e8-bd06-78843cf6d6b3",
         "width": 0.5,
         "x": [
          "Bangalore",
          "Mumbai",
          "New Delhi",
          "Gurgaon",
          "India",
          "Pune",
          "Noida",
          "Hyderabad",
          "Chennai",
          "Ahmedabad"
         ],
         "y": [
          627,
          445,
          381,
          240,
          179,
          84,
          78,
          76,
          66,
          35
         ]
        }
       ],
       "layout": {
        "hovermode": "closest",
        "title": "Cities getting maximum number of funding",
        "yaxis": {
         "title": "Number of Investment"
        }
       }
      },
      "text/html": [
       "<div id=\"a318ad3f-e5f7-420e-ae4b-cb57fb4c5783\" style=\"height: 525px; width: 100%;\" class=\"plotly-graph-div\"></div><script type=\"text/javascript\">require([\"plotly\"], function(Plotly) { window.PLOTLYENV=window.PLOTLYENV || {};window.PLOTLYENV.BASE_URL=\"https://plot.ly\";Plotly.newPlot(\"a318ad3f-e5f7-420e-ae4b-cb57fb4c5783\", [{\"marker\": {\"color\": [627, 445, 381, 240, 179, 84, 78, 76, 66, 35], \"colorscale\": \"Portland\"}, \"width\": 0.5, \"x\": [\"Bangalore\", \"Mumbai\", \"New Delhi\", \"Gurgaon\", \"India\", \"Pune\", \"Noida\", \"Hyderabad\", \"Chennai\", \"Ahmedabad\"], \"y\": [627, 445, 381, 240, 179, 84, 78, 76, 66, 35], \"type\": \"bar\", \"uid\": \"3979727e-d386-11e8-bd06-78843cf6d6b3\"}], {\"hovermode\": \"closest\", \"title\": \"Cities getting maximum number of funding\", \"yaxis\": {\"title\": \"Number of Investment\"}}, {\"showLink\": true, \"linkText\": \"Export to plot.ly\"})});</script>"
      ],
      "text/vnd.plotly.v1+html": [
       "<div id=\"a318ad3f-e5f7-420e-ae4b-cb57fb4c5783\" style=\"height: 525px; width: 100%;\" class=\"plotly-graph-div\"></div><script type=\"text/javascript\">require([\"plotly\"], function(Plotly) { window.PLOTLYENV=window.PLOTLYENV || {};window.PLOTLYENV.BASE_URL=\"https://plot.ly\";Plotly.newPlot(\"a318ad3f-e5f7-420e-ae4b-cb57fb4c5783\", [{\"marker\": {\"color\": [627, 445, 381, 240, 179, 84, 78, 76, 66, 35], \"colorscale\": \"Portland\"}, \"width\": 0.5, \"x\": [\"Bangalore\", \"Mumbai\", \"New Delhi\", \"Gurgaon\", \"India\", \"Pune\", \"Noida\", \"Hyderabad\", \"Chennai\", \"Ahmedabad\"], \"y\": [627, 445, 381, 240, 179, 84, 78, 76, 66, 35], \"type\": \"bar\", \"uid\": \"3979727e-d386-11e8-bd06-78843cf6d6b3\"}], {\"hovermode\": \"closest\", \"title\": \"Cities getting maximum number of funding\", \"yaxis\": {\"title\": \"Number of Investment\"}}, {\"showLink\": true, \"linkText\": \"Export to plot.ly\"})});</script>"
      ]
     },
     "metadata": {},
     "output_type": "display_data"
    }
   ],
   "source": [
    "dt_loc = df['CityLocation'].groupby(df.CityLocation).agg('count').nlargest(10)\n",
    "\n",
    "keytype = list(dt_loc.keys())\n",
    "populationtype = list(dt_loc.values)\n",
    "\n",
    "dataa = [go.Bar(\n",
    "    y = populationtype,\n",
    "    x = keytype,\n",
    "    width =0.5,\n",
    "    marker = dict(\n",
    "    color = populationtype,\n",
    "    colorscale = 'Portland',\n",
    "    )\n",
    ")]\n",
    "\n",
    "layout = go.Layout(\n",
    "title = 'Cities getting maximum number of funding',\n",
    "hovermode = 'closest',\n",
    "yaxis = dict(\n",
    "            title = 'Number of Investment'))\n",
    "\n",
    "fig = go.Figure(data=dataa,layout=layout)\n",
    "py.iplot(fig)\n"
   ]
  },
  {
   "cell_type": "markdown",
   "metadata": {},
   "source": [
    "### Top 10 having maximum funding amount"
   ]
  },
  {
   "cell_type": "code",
   "execution_count": 68,
   "metadata": {},
   "outputs": [
    {
     "data": {
      "application/vnd.plotly.v1+json": {
       "data": [
        {
         "marker": {
          "color": [
           11054672335.9816,
           4783498853.733758,
           4088200099.357368,
           2970151982.4262295,
           1801231084.356722,
           643085192.9704916,
           639695388.8813114,
           567363412.2675406,
           471476681.2773767,
           218496730.99016395
          ],
          "colorscale": "Portland"
         },
         "type": "bar",
         "uid": "3aa8a81c-d386-11e8-966d-78843cf6d6b3",
         "width": 0.5,
         "x": [
          "Bangalore",
          "New Delhi",
          "Mumbai",
          "Gurgaon",
          "India",
          "Pune",
          "Chennai",
          "Noida",
          "Hyderabad",
          "Ahmedabad"
         ],
         "y": [
          11054672335.9816,
          4783498853.733758,
          4088200099.357368,
          2970151982.4262295,
          1801231084.356722,
          643085192.9704916,
          639695388.8813114,
          567363412.2675406,
          471476681.2773767,
          218496730.99016395
         ]
        }
       ],
       "layout": {
        "hovermode": "closest",
        "title": "Cities getting maximum funding amount",
        "yaxis": {
         "title": "Number of Investment"
        }
       }
      },
      "text/html": [
       "<div id=\"55679474-3a6f-4520-a078-cdedace04239\" style=\"height: 525px; width: 100%;\" class=\"plotly-graph-div\"></div><script type=\"text/javascript\">require([\"plotly\"], function(Plotly) { window.PLOTLYENV=window.PLOTLYENV || {};window.PLOTLYENV.BASE_URL=\"https://plot.ly\";Plotly.newPlot(\"55679474-3a6f-4520-a078-cdedace04239\", [{\"marker\": {\"color\": [11054672335.9816, 4783498853.733758, 4088200099.357368, 2970151982.4262295, 1801231084.356722, 643085192.9704916, 639695388.8813114, 567363412.2675406, 471476681.2773767, 218496730.99016395], \"colorscale\": \"Portland\"}, \"width\": 0.5, \"x\": [\"Bangalore\", \"New Delhi\", \"Mumbai\", \"Gurgaon\", \"India\", \"Pune\", \"Chennai\", \"Noida\", \"Hyderabad\", \"Ahmedabad\"], \"y\": [11054672335.9816, 4783498853.733758, 4088200099.357368, 2970151982.4262295, 1801231084.356722, 643085192.9704916, 639695388.8813114, 567363412.2675406, 471476681.2773767, 218496730.99016395], \"type\": \"bar\", \"uid\": \"3aa8a81c-d386-11e8-966d-78843cf6d6b3\"}], {\"hovermode\": \"closest\", \"title\": \"Cities getting maximum funding amount\", \"yaxis\": {\"title\": \"Number of Investment\"}}, {\"showLink\": true, \"linkText\": \"Export to plot.ly\"})});</script>"
      ],
      "text/vnd.plotly.v1+html": [
       "<div id=\"55679474-3a6f-4520-a078-cdedace04239\" style=\"height: 525px; width: 100%;\" class=\"plotly-graph-div\"></div><script type=\"text/javascript\">require([\"plotly\"], function(Plotly) { window.PLOTLYENV=window.PLOTLYENV || {};window.PLOTLYENV.BASE_URL=\"https://plot.ly\";Plotly.newPlot(\"55679474-3a6f-4520-a078-cdedace04239\", [{\"marker\": {\"color\": [11054672335.9816, 4783498853.733758, 4088200099.357368, 2970151982.4262295, 1801231084.356722, 643085192.9704916, 639695388.8813114, 567363412.2675406, 471476681.2773767, 218496730.99016395], \"colorscale\": \"Portland\"}, \"width\": 0.5, \"x\": [\"Bangalore\", \"New Delhi\", \"Mumbai\", \"Gurgaon\", \"India\", \"Pune\", \"Chennai\", \"Noida\", \"Hyderabad\", \"Ahmedabad\"], \"y\": [11054672335.9816, 4783498853.733758, 4088200099.357368, 2970151982.4262295, 1801231084.356722, 643085192.9704916, 639695388.8813114, 567363412.2675406, 471476681.2773767, 218496730.99016395], \"type\": \"bar\", \"uid\": \"3aa8a81c-d386-11e8-966d-78843cf6d6b3\"}], {\"hovermode\": \"closest\", \"title\": \"Cities getting maximum funding amount\", \"yaxis\": {\"title\": \"Number of Investment\"}}, {\"showLink\": true, \"linkText\": \"Export to plot.ly\"})});</script>"
      ]
     },
     "metadata": {},
     "output_type": "display_data"
    }
   ],
   "source": [
    "dt_cit = df['AmountInUSD'].groupby([df.CityLocation]).agg('sum').nlargest(10)\n",
    "\n",
    "keytype = list(dt_cit.keys())\n",
    "populationtype = list(dt_cit.values)\n",
    "\n",
    "dataa = [go.Bar(\n",
    "    y = populationtype,\n",
    "    x = keytype,\n",
    "    width =0.5,\n",
    "    marker = dict(\n",
    "    color = populationtype,\n",
    "    colorscale = 'Portland',\n",
    "    )\n",
    ")]\n",
    "\n",
    "layout = go.Layout(\n",
    "title = 'Cities getting maximum funding amount',\n",
    "hovermode = 'closest',\n",
    "yaxis = dict(\n",
    "            title = 'Number of Investment'))\n",
    "\n",
    "fig = go.Figure(data=dataa,layout=layout)\n",
    "py.iplot(fig)"
   ]
  },
  {
   "cell_type": "markdown",
   "metadata": {},
   "source": [
    "### Top 10 Companies by funding"
   ]
  },
  {
   "cell_type": "code",
   "execution_count": 69,
   "metadata": {},
   "outputs": [
    {
     "data": {
      "application/vnd.plotly.v1+json": {
       "data": [
        {
         "marker": {
          "color": [
           2364062146.1980324,
           2259700000,
           1911531073.0990164,
           700000000,
           350000000,
           230000000,
           215000000,
           210000000,
           207000000,
           180000000
          ],
          "colorscale": "Portland"
         },
         "type": "bar",
         "uid": "3d95e7f6-d386-11e8-bd9d-78843cf6d6b3",
         "width": 0.5,
         "x": [
          "Paytm",
          "Flipkart",
          "Ola",
          "Snapdeal",
          "Oyo Rooms",
          "Quikr",
          "Delhivery",
          "Foodpanda",
          "BigBasket",
          "MakeMyTrip"
         ],
         "y": [
          2364062146.1980324,
          2259700000,
          1911531073.0990164,
          700000000,
          350000000,
          230000000,
          215000000,
          210000000,
          207000000,
          180000000
         ]
        }
       ],
       "layout": {
        "hovermode": "closest",
        "title": "Top 10 Startup by funding Amount",
        "yaxis": {
         "title": "Number of Investment"
        }
       }
      },
      "text/html": [
       "<div id=\"902f0bd2-f253-4d02-b176-beae5d9a427f\" style=\"height: 525px; width: 100%;\" class=\"plotly-graph-div\"></div><script type=\"text/javascript\">require([\"plotly\"], function(Plotly) { window.PLOTLYENV=window.PLOTLYENV || {};window.PLOTLYENV.BASE_URL=\"https://plot.ly\";Plotly.newPlot(\"902f0bd2-f253-4d02-b176-beae5d9a427f\", [{\"marker\": {\"color\": [2364062146.1980324, 2259700000.0, 1911531073.0990164, 700000000.0, 350000000.0, 230000000.0, 215000000.0, 210000000.0, 207000000.0, 180000000.0], \"colorscale\": \"Portland\"}, \"width\": 0.5, \"x\": [\"Paytm\", \"Flipkart\", \"Ola\", \"Snapdeal\", \"Oyo Rooms\", \"Quikr\", \"Delhivery\", \"Foodpanda\", \"BigBasket\", \"MakeMyTrip\"], \"y\": [2364062146.1980324, 2259700000.0, 1911531073.0990164, 700000000.0, 350000000.0, 230000000.0, 215000000.0, 210000000.0, 207000000.0, 180000000.0], \"type\": \"bar\", \"uid\": \"3d95e7f6-d386-11e8-bd9d-78843cf6d6b3\"}], {\"hovermode\": \"closest\", \"title\": \"Top 10 Startup by funding Amount\", \"yaxis\": {\"title\": \"Number of Investment\"}}, {\"showLink\": true, \"linkText\": \"Export to plot.ly\"})});</script>"
      ],
      "text/vnd.plotly.v1+html": [
       "<div id=\"902f0bd2-f253-4d02-b176-beae5d9a427f\" style=\"height: 525px; width: 100%;\" class=\"plotly-graph-div\"></div><script type=\"text/javascript\">require([\"plotly\"], function(Plotly) { window.PLOTLYENV=window.PLOTLYENV || {};window.PLOTLYENV.BASE_URL=\"https://plot.ly\";Plotly.newPlot(\"902f0bd2-f253-4d02-b176-beae5d9a427f\", [{\"marker\": {\"color\": [2364062146.1980324, 2259700000.0, 1911531073.0990164, 700000000.0, 350000000.0, 230000000.0, 215000000.0, 210000000.0, 207000000.0, 180000000.0], \"colorscale\": \"Portland\"}, \"width\": 0.5, \"x\": [\"Paytm\", \"Flipkart\", \"Ola\", \"Snapdeal\", \"Oyo Rooms\", \"Quikr\", \"Delhivery\", \"Foodpanda\", \"BigBasket\", \"MakeMyTrip\"], \"y\": [2364062146.1980324, 2259700000.0, 1911531073.0990164, 700000000.0, 350000000.0, 230000000.0, 215000000.0, 210000000.0, 207000000.0, 180000000.0], \"type\": \"bar\", \"uid\": \"3d95e7f6-d386-11e8-bd9d-78843cf6d6b3\"}], {\"hovermode\": \"closest\", \"title\": \"Top 10 Startup by funding Amount\", \"yaxis\": {\"title\": \"Number of Investment\"}}, {\"showLink\": true, \"linkText\": \"Export to plot.ly\"})});</script>"
      ]
     },
     "metadata": {},
     "output_type": "display_data"
    }
   ],
   "source": [
    "dt_start=df['AmountInUSD'].groupby([df.StartupName]).agg('sum').nlargest(10)\n",
    "\n",
    "keytype = list(dt_start.keys())\n",
    "populationtype = list(dt_start.values)\n",
    "\n",
    "dataa = [go.Bar(\n",
    "    y = populationtype,\n",
    "    x = keytype,\n",
    "    width =0.5,\n",
    "    marker = dict(\n",
    "    color = populationtype,\n",
    "    colorscale = 'Portland',\n",
    "    )\n",
    ")]\n",
    "\n",
    "layout = go.Layout(\n",
    "title = 'Top 10 Startup by funding Amount',\n",
    "hovermode = 'closest',\n",
    "yaxis = dict(\n",
    "            title = 'Number of Investment'))\n",
    "\n",
    "fig = go.Figure(data=dataa,layout=layout)\n",
    "py.iplot(fig)"
   ]
  },
  {
   "cell_type": "markdown",
   "metadata": {},
   "source": [
    "### Funding on Year Basis"
   ]
  },
  {
   "cell_type": "code",
   "execution_count": 70,
   "metadata": {},
   "outputs": [
    {
     "data": {
      "application/vnd.plotly.v1+json": {
       "data": [
        {
         "marker": {
          "color": [
           12065784981.922583,
           8712704286.200598,
           7747185049.64457
          ],
          "colorscale": "Portland"
         },
         "type": "bar",
         "uid": "537e7136-d386-11e8-9eb4-78843cf6d6b3",
         "width": 0.5,
         "x": [
          2015,
          2016,
          2017
         ],
         "y": [
          12065784981.922583,
          8712704286.200598,
          7747185049.64457
         ]
        }
       ],
       "layout": {
        "hovermode": "closest",
        "title": "funding Amount per year basis",
        "yaxis": {
         "title": "Number of Investment"
        }
       }
      },
      "text/html": [
       "<div id=\"d659a819-8516-4d0c-ad89-ea724a739c91\" style=\"height: 525px; width: 100%;\" class=\"plotly-graph-div\"></div><script type=\"text/javascript\">require([\"plotly\"], function(Plotly) { window.PLOTLYENV=window.PLOTLYENV || {};window.PLOTLYENV.BASE_URL=\"https://plot.ly\";Plotly.newPlot(\"d659a819-8516-4d0c-ad89-ea724a739c91\", [{\"marker\": {\"color\": [12065784981.922583, 8712704286.200598, 7747185049.64457], \"colorscale\": \"Portland\"}, \"width\": 0.5, \"x\": [2015, 2016, 2017], \"y\": [12065784981.922583, 8712704286.200598, 7747185049.64457], \"type\": \"bar\", \"uid\": \"537e7136-d386-11e8-9eb4-78843cf6d6b3\"}], {\"hovermode\": \"closest\", \"title\": \"funding Amount per year basis\", \"yaxis\": {\"title\": \"Number of Investment\"}}, {\"showLink\": true, \"linkText\": \"Export to plot.ly\"})});</script>"
      ],
      "text/vnd.plotly.v1+html": [
       "<div id=\"d659a819-8516-4d0c-ad89-ea724a739c91\" style=\"height: 525px; width: 100%;\" class=\"plotly-graph-div\"></div><script type=\"text/javascript\">require([\"plotly\"], function(Plotly) { window.PLOTLYENV=window.PLOTLYENV || {};window.PLOTLYENV.BASE_URL=\"https://plot.ly\";Plotly.newPlot(\"d659a819-8516-4d0c-ad89-ea724a739c91\", [{\"marker\": {\"color\": [12065784981.922583, 8712704286.200598, 7747185049.64457], \"colorscale\": \"Portland\"}, \"width\": 0.5, \"x\": [2015, 2016, 2017], \"y\": [12065784981.922583, 8712704286.200598, 7747185049.64457], \"type\": \"bar\", \"uid\": \"537e7136-d386-11e8-9eb4-78843cf6d6b3\"}], {\"hovermode\": \"closest\", \"title\": \"funding Amount per year basis\", \"yaxis\": {\"title\": \"Number of Investment\"}}, {\"showLink\": true, \"linkText\": \"Export to plot.ly\"})});</script>"
      ]
     },
     "metadata": {},
     "output_type": "display_data"
    }
   ],
   "source": [
    "dt_year = df['AmountInUSD'].groupby(pd.DatetimeIndex(df['Date']).year).agg('sum')\n",
    "keytype = list(dt_year.keys())\n",
    "populationtype = list(dt_year.values)\n",
    "\n",
    "dataa = [go.Bar(\n",
    "    y = populationtype,\n",
    "    x = keytype,\n",
    "    width =0.5,\n",
    "    marker = dict(\n",
    "    color = populationtype,\n",
    "    colorscale = 'Portland',\n",
    "    )\n",
    ")]\n",
    "\n",
    "layout = go.Layout(\n",
    "title = 'funding Amount per year basis',\n",
    "hovermode = 'closest',\n",
    "yaxis = dict(\n",
    "            title = 'Number of Investment'))\n",
    "\n",
    "fig = go.Figure(data=dataa,layout=layout)\n",
    "py.iplot(fig)"
   ]
  }
 ],
 "metadata": {
  "kernelspec": {
   "display_name": "Python 3",
   "language": "python",
   "name": "python3"
  },
  "language_info": {
   "codemirror_mode": {
    "name": "ipython",
    "version": 3
   },
   "file_extension": ".py",
   "mimetype": "text/x-python",
   "name": "python",
   "nbconvert_exporter": "python",
   "pygments_lexer": "ipython3",
   "version": "3.6.5"
  }
 },
 "nbformat": 4,
 "nbformat_minor": 2
}
